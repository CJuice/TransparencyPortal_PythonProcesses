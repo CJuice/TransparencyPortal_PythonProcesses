{
 "cells": [
  {
   "cell_type": "markdown",
   "metadata": {},
   "source": [
    "# IMPORTS"
   ]
  },
  {
   "cell_type": "code",
   "execution_count": 1,
   "metadata": {},
   "outputs": [],
   "source": [
    "import pandas as pd"
   ]
  },
  {
   "cell_type": "markdown",
   "metadata": {},
   "source": [
    "# VARIABLES"
   ]
  },
  {
   "cell_type": "code",
   "execution_count": 2,
   "metadata": {},
   "outputs": [],
   "source": [
    "data_file = r\"MFR-data.csv\""
   ]
  },
  {
   "cell_type": "markdown",
   "metadata": {},
   "source": [
    "# FUNCTIONALITY"
   ]
  },
  {
   "cell_type": "code",
   "execution_count": 3,
   "metadata": {},
   "outputs": [],
   "source": [
    "df = pd.read_csv(filepath_or_buffer=data_file, header=0)"
   ]
  },
  {
   "cell_type": "code",
   "execution_count": 4,
   "metadata": {},
   "outputs": [
    {
     "name": "stdout",
     "output_type": "stream",
     "text": [
      "<class 'pandas.core.frame.DataFrame'>\n",
      "RangeIndex: 101 entries, 0 to 100\n",
      "Data columns (total 5 columns):\n",
      "Agency Name                           101 non-null object\n",
      "FY2020                                99 non-null object\n",
      "Carissa's name (from Google drive)    98 non-null object\n",
      "FY2021                                100 non-null object\n",
      "Different                             42 non-null object\n",
      "dtypes: object(5)\n",
      "memory usage: 4.1+ KB\n"
     ]
    }
   ],
   "source": [
    "df.info()"
   ]
  },
  {
   "cell_type": "code",
   "execution_count": 5,
   "metadata": {},
   "outputs": [],
   "source": [
    "df[\"FY2020\"] = df[\"FY2020\"].apply(lambda x: str(x)[6:])"
   ]
  },
  {
   "cell_type": "code",
   "execution_count": 6,
   "metadata": {},
   "outputs": [],
   "source": [
    "df[\"FY2021\"] = df[\"FY2021\"].apply(lambda x: str(x)[6:])"
   ]
  },
  {
   "cell_type": "code",
   "execution_count": 7,
   "metadata": {},
   "outputs": [],
   "source": [
    "df[\"Different\"] = (df.FY2020 != df.FY2021)"
   ]
  },
  {
   "cell_type": "code",
   "execution_count": 8,
   "metadata": {},
   "outputs": [
    {
     "data": {
      "text/html": [
       "<div>\n",
       "<style scoped>\n",
       "    .dataframe tbody tr th:only-of-type {\n",
       "        vertical-align: middle;\n",
       "    }\n",
       "\n",
       "    .dataframe tbody tr th {\n",
       "        vertical-align: top;\n",
       "    }\n",
       "\n",
       "    .dataframe thead th {\n",
       "        text-align: right;\n",
       "    }\n",
       "</style>\n",
       "<table border=\"1\" class=\"dataframe\">\n",
       "  <thead>\n",
       "    <tr style=\"text-align: right;\">\n",
       "      <th></th>\n",
       "      <th>Agency Name</th>\n",
       "      <th>FY2020</th>\n",
       "      <th>Carissa's name (from Google drive)</th>\n",
       "      <th>FY2021</th>\n",
       "      <th>Different</th>\n",
       "    </tr>\n",
       "  </thead>\n",
       "  <tbody>\n",
       "    <tr>\n",
       "      <th>0</th>\n",
       "      <td>Maryland State Department of Education</td>\n",
       "      <td>Maryland-State-Dept-of-Education-MFR.pdf</td>\n",
       "      <td>Maryland State Department of Education.pdf</td>\n",
       "      <td>Maryland-State-Department-of-Education-MFR.pdf</td>\n",
       "      <td>True</td>\n",
       "    </tr>\n",
       "    <tr>\n",
       "      <th>1</th>\n",
       "      <td>Maryland School for the Blind</td>\n",
       "      <td>Maryland-School-for-the-Blind-MFR.pdf</td>\n",
       "      <td>Maryland School for the Blind.pdf</td>\n",
       "      <td>Maryland-School-for-the-Blind-MFR.pdf</td>\n",
       "      <td>False</td>\n",
       "    </tr>\n",
       "    <tr>\n",
       "      <th>2</th>\n",
       "      <td>Blind Industries and Services of Maryland</td>\n",
       "      <td>Blind-Industries-and-Services-of-Maryland-MFR.pdf</td>\n",
       "      <td>Blind Industries and Services of Maryland.pdf</td>\n",
       "      <td>Blind-Industries-and-Services-of-Maryland-MFR.pdf</td>\n",
       "      <td>False</td>\n",
       "    </tr>\n",
       "    <tr>\n",
       "      <th>3</th>\n",
       "      <td>Maryland Longitudinal Data Center</td>\n",
       "      <td>Md-Longitudinal-Data-Sys-Center-MFR.pdf</td>\n",
       "      <td>Maryland Longitudinal Data System Center.pdf</td>\n",
       "      <td>Maryland-Longitudinal-Data-System-Center-MFR.pdf</td>\n",
       "      <td>True</td>\n",
       "    </tr>\n",
       "    <tr>\n",
       "      <th>4</th>\n",
       "      <td>Maryland School for the Deaf</td>\n",
       "      <td>Maryland-School-for-the-Deaf-MFR.pdf</td>\n",
       "      <td>Maryland School for the Blind.pdf</td>\n",
       "      <td>Maryland-School-for-the-Deaf-MFR.pdf</td>\n",
       "      <td>False</td>\n",
       "    </tr>\n",
       "  </tbody>\n",
       "</table>\n",
       "</div>"
      ],
      "text/plain": [
       "                                 Agency Name  \\\n",
       "0     Maryland State Department of Education   \n",
       "1              Maryland School for the Blind   \n",
       "2  Blind Industries and Services of Maryland   \n",
       "3          Maryland Longitudinal Data Center   \n",
       "4               Maryland School for the Deaf   \n",
       "\n",
       "                                              FY2020  \\\n",
       "0           Maryland-State-Dept-of-Education-MFR.pdf   \n",
       "1              Maryland-School-for-the-Blind-MFR.pdf   \n",
       "2  Blind-Industries-and-Services-of-Maryland-MFR.pdf   \n",
       "3            Md-Longitudinal-Data-Sys-Center-MFR.pdf   \n",
       "4               Maryland-School-for-the-Deaf-MFR.pdf   \n",
       "\n",
       "              Carissa's name (from Google drive)  \\\n",
       "0     Maryland State Department of Education.pdf   \n",
       "1              Maryland School for the Blind.pdf   \n",
       "2  Blind Industries and Services of Maryland.pdf   \n",
       "3   Maryland Longitudinal Data System Center.pdf   \n",
       "4              Maryland School for the Blind.pdf   \n",
       "\n",
       "                                              FY2021  Different  \n",
       "0     Maryland-State-Department-of-Education-MFR.pdf       True  \n",
       "1              Maryland-School-for-the-Blind-MFR.pdf      False  \n",
       "2  Blind-Industries-and-Services-of-Maryland-MFR.pdf      False  \n",
       "3   Maryland-Longitudinal-Data-System-Center-MFR.pdf       True  \n",
       "4               Maryland-School-for-the-Deaf-MFR.pdf      False  "
      ]
     },
     "execution_count": 8,
     "metadata": {},
     "output_type": "execute_result"
    }
   ],
   "source": [
    "df.head()"
   ]
  },
  {
   "cell_type": "code",
   "execution_count": 10,
   "metadata": {},
   "outputs": [],
   "source": [
    "df.to_csv(\"MFR_data_compared.csv\", index=False)"
   ]
  },
  {
   "cell_type": "code",
   "execution_count": null,
   "metadata": {},
   "outputs": [],
   "source": []
  }
 ],
 "metadata": {
  "kernelspec": {
   "display_name": "Python 3",
   "language": "python",
   "name": "python3"
  },
  "language_info": {
   "codemirror_mode": {
    "name": "ipython",
    "version": 3
   },
   "file_extension": ".py",
   "mimetype": "text/x-python",
   "name": "python",
   "nbconvert_exporter": "python",
   "pygments_lexer": "ipython3",
   "version": "3.7.6"
  }
 },
 "nbformat": 4,
 "nbformat_minor": 4
}
