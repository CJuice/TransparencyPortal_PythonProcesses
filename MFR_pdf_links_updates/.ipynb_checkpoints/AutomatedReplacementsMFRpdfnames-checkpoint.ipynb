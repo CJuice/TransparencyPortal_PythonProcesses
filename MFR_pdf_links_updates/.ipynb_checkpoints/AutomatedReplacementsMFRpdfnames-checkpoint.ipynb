{
 "cells": [
  {
   "cell_type": "code",
   "execution_count": 11,
   "metadata": {},
   "outputs": [],
   "source": [
    "import pandas as pd\n",
    "import itertools"
   ]
  },
  {
   "cell_type": "code",
   "execution_count": 12,
   "metadata": {},
   "outputs": [],
   "source": [
    "mapped_data = r\"MFR_data_compared.xlsx\"\n",
    "config_file_budget = r\"20200218_drill_down_annotations_budget.csv\"\n",
    "config_file_budget_revised = r\"20200218_drill_down_annotations_budget_REVISED.csv\"\n",
    "\n",
    "config_file_CURCR = r\"20200218_drill_down_annotations_CRCUR.csv\"\n",
    "config_file_CURCR_revised = r\"20200218_drill_down_annotations_CRCUR_REVISED.csv\""
   ]
  },
  {
   "cell_type": "code",
   "execution_count": 13,
   "metadata": {},
   "outputs": [],
   "source": [
    "mapped_df = pd.read_excel(mapped_data)\n",
    "mapped_df = mapped_df[mapped_df[\"Different\"] == True]"
   ]
  },
  {
   "cell_type": "code",
   "execution_count": 14,
   "metadata": {},
   "outputs": [],
   "source": [
    "budget_df = pd.read_csv(config_file_budget)"
   ]
  },
  {
   "cell_type": "code",
   "execution_count": 15,
   "metadata": {},
   "outputs": [],
   "source": [
    "crcur_df = pd.read_csv(config_file_CURCR)"
   ]
  },
  {
   "cell_type": "code",
   "execution_count": 16,
   "metadata": {
    "scrolled": false
   },
   "outputs": [],
   "source": [
    "counter = itertools.count()\n",
    "\n",
    "for mapped_record in mapped_df.itertuples():\n",
    "    index = next(counter)\n",
    "    fy2020_val = mapped_record.FY2020\n",
    "    fy2021_val = mapped_record.FY2021\n",
    "    \n",
    "    if pd.isna(fy2020_val) or pd.isna(fy2021_val):\n",
    "        continue\n",
    "    \n",
    "    # BUDGET PORTION\n",
    "    try:\n",
    "        budg_result = budget_df[budget_df[\"text\"].str.contains(fy2020_val, regex=False)]\n",
    "    except KeyError as ke:\n",
    "        print(ke)\n",
    "    if budg_result.empty:\n",
    "        continue\n",
    "    else:\n",
    "        budg_index = budg_result.index[0]\n",
    "#         print(budget_df.iloc[budg_index].text)\n",
    "#         print(\"\\n\")\n",
    "        text_of_interest_budg = budget_df.iloc[budg_index][\"text\"]\n",
    "        text_of_interest__budg_mod = text_of_interest_budg.replace(fy2020_val, fy2021_val)\n",
    "        budget_df.iloc[budg_index].text = text_of_interest__budg_mod\n",
    "#         print(budget_df.iloc[budg_index].text)\n",
    "    \n",
    "    # CR/CUR PORTION\n",
    "    try:\n",
    "        crcur_result = crcur_df[crcur_df[\"text\"].str.contains(fy2020_val, regex=False)]\n",
    "    except KeyError as ke:\n",
    "        print(ke)\n",
    "    if crcur_result.empty:\n",
    "        continue\n",
    "    else:\n",
    "        crcur_index = crcur_result.index[0]\n",
    "#         print(crcur_df.iloc[crcur_index].text)\n",
    "#         print(\"\\n\")\n",
    "        text_of_interest_crcur = crcur_df.iloc[crcur_index][\"text\"]\n",
    "        text_of_interest_crcur_mod = text_of_interest_crcur.replace(fy2020_val, fy2021_val)\n",
    "        crcur_df.iloc[crcur_index].text = text_of_interest_crcur_mod\n",
    "#         print(crcur_df.iloc[crcur_index].text)\n"
   ]
  },
  {
   "cell_type": "code",
   "execution_count": 17,
   "metadata": {},
   "outputs": [],
   "source": [
    "budget_df.to_csv(config_file_budget_revised, index=False)\n",
    "crcur_df.to_csv(config_file_CURCR_revised, index=False)"
   ]
  },
  {
   "cell_type": "code",
   "execution_count": 18,
   "metadata": {},
   "outputs": [],
   "source": [
    "# mapped_df.head()"
   ]
  },
  {
   "cell_type": "code",
   "execution_count": 19,
   "metadata": {},
   "outputs": [],
   "source": [
    "# budget_df.head()"
   ]
  },
  {
   "cell_type": "code",
   "execution_count": 20,
   "metadata": {},
   "outputs": [],
   "source": [
    "# crcur_df.head()"
   ]
  },
  {
   "cell_type": "code",
   "execution_count": null,
   "metadata": {},
   "outputs": [],
   "source": []
  }
 ],
 "metadata": {
  "kernelspec": {
   "display_name": "Python 3",
   "language": "python",
   "name": "python3"
  },
  "language_info": {
   "codemirror_mode": {
    "name": "ipython",
    "version": 3
   },
   "file_extension": ".py",
   "mimetype": "text/x-python",
   "name": "python",
   "nbconvert_exporter": "python",
   "pygments_lexer": "ipython3",
   "version": "3.7.6"
  }
 },
 "nbformat": 4,
 "nbformat_minor": 4
}
