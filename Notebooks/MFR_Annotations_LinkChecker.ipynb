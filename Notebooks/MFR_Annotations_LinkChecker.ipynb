{
 "cells": [
  {
   "cell_type": "code",
   "execution_count": 1,
   "metadata": {},
   "outputs": [],
   "source": [
    "import pandas as pd\n",
    "import os\n",
    "from bs4 import BeautifulSoup\n",
    "import requests"
   ]
  },
  {
   "cell_type": "code",
   "execution_count": 2,
   "metadata": {},
   "outputs": [],
   "source": [
    "# annotation_csv = r\"..\\AnnotationData\\20210115_BUDGET_drill_down_annotations_operating_2022REVISED.csv\"\n",
    "annotation_csv= r\"..\\AnnotationData\\20210115_CURCR_drill_down_annotations_operating_2022REVISED.csv\"\n",
    "tested_links_dict = {}"
   ]
  },
  {
   "cell_type": "code",
   "execution_count": 3,
   "metadata": {},
   "outputs": [],
   "source": [
    "def extract_links(text:str) -> list:\n",
    "    soup = BeautifulSoup(text, \"html.parser\")\n",
    "    return [link.get(\"href\") for link in soup.find_all(\"a\")]\n",
    "\n",
    "def test_link(link_list: list, tested_dict: dict=tested_links_dict):\n",
    "    already_handled = False\n",
    "\n",
    "    for link in link_list:\n",
    "        if link in tested_dict.keys():\n",
    "            continue\n",
    "        else:\n",
    "            print(link_list)\n",
    "            try:\n",
    "                resp = requests.get(link)\n",
    "            except Exception as e:\n",
    "                tested_dict[link] = -9999\n",
    "            else:\n",
    "                tested_dict[link] = int(resp.status_code)"
   ]
  },
  {
   "cell_type": "code",
   "execution_count": 4,
   "metadata": {},
   "outputs": [
    {
     "name": "stdout",
     "output_type": "stream",
     "text": [
      "<class 'pandas.core.frame.DataFrame'>\n",
      "RangeIndex: 851 entries, 0 to 850\n",
      "Data columns (total 3 columns):\n",
      " #   Column  Non-Null Count  Dtype \n",
      "---  ------  --------------  ----- \n",
      " 0   column  851 non-null    object\n",
      " 1   entity  843 non-null    object\n",
      " 2   text    851 non-null    object\n",
      "dtypes: object(3)\n",
      "memory usage: 20.1+ KB\n"
     ]
    }
   ],
   "source": [
    "df = pd.read_csv(annotation_csv)\n",
    "df.info()"
   ]
  },
  {
   "cell_type": "code",
   "execution_count": 5,
   "metadata": {},
   "outputs": [],
   "source": [
    "df[\"link_ls\"] = df[\"text\"].apply(extract_links)"
   ]
  },
  {
   "cell_type": "code",
   "execution_count": 6,
   "metadata": {},
   "outputs": [
    {
     "name": "stdout",
     "output_type": "stream",
     "text": [
      "['https://fte.maryland.gov/#!/year/2022/operating/0/agency_name?vis=barChart']\n",
      "['https://fte.maryland.gov/#!/year/2022/operating/0/agency_name?vis=barChart', 'https://dbm.maryland.gov/Documents/MFR_documents/2022/Baltimore-City-Community-College-MFR.pdf']\n",
      "['https://fte.maryland.gov/#!/year/2022/operating/0/agency_name?vis=barChart', 'https://dbm.maryland.gov/Documents/MFR_documents/2022/Board-of-Public-Works-MFR.pdf']\n",
      "['https://fte.maryland.gov/#!/year/2022/operating/0/agency_name?vis=barChart', 'https://dbm.maryland.gov/Documents/MFR_documents/2022/Canal-Place-Pres-and-Dev-Auth-MFR.pdf']\n",
      "['https://fte.maryland.gov/#!/year/2022/operating/0/agency_name?vis=barChart', 'https://dbm.maryland.gov/Documents/MFR_documents/2022/Comptroller-of-Maryland-MFR.pdf']\n",
      "['https://fte.maryland.gov/#!/year/2022/operating/0/agency_name?vis=barChart', 'https://dbm.maryland.gov/Documents/MFR_documents/2022/Department-of-Aging-MFR.pdf']\n",
      "['https://fte.maryland.gov/#!/year/2022/operating/0/agency_name?vis=barChart', 'https://dbm.maryland.gov/Documents/MFR_documents/2022/Department-of-Agriculture-MFR.pdf']\n",
      "['https://fte.maryland.gov/#!/year/2022/operating/0/agency_name?vis=barChart', 'https://dbm.maryland.gov/Documents/MFR_documents/2022/Department-of-Budget-and-Management-MFR.pdf']\n",
      "['https://fte.maryland.gov/#!/year/2022/operating/0/agency_name?vis=barChart', 'https://dbm.maryland.gov/Documents/MFR_documents/2022/Department-of-Commerce-MFR.pdf']\n",
      "['https://fte.maryland.gov/#!/year/2022/operating/0/agency_name?vis=barChart', 'https://dbm.maryland.gov/Documents/MFR_documents/2022/Maryland-Department-of-Disabilities-MFR.pdf']\n",
      "['https://fte.maryland.gov/#!/year/2022/operating/0/agency_name?vis=barChart', 'https://dbm.maryland.gov/Documents/MFR_documents/2022/Department-of-General-Services-MFR.pdf']\n",
      "['https://fte.maryland.gov/#!/year/2022/operating/0/agency_name?vis=barChart', 'https://dbm.maryland.gov/Documents/MFR_documents/2022/Dept-of-Housing-and-Comm-Dev-MFR.pdf']\n",
      "['https://fte.maryland.gov/#!/year/2022/operating/0/agency_name?vis=barChart', 'https://dbm.maryland.gov/Documents/MFR_documents/2022/Department-of-Human-Services-MFR.pdf']\n",
      "['https://fte.maryland.gov/#!/year/2022/operating/0/agency_name?vis=barChart', 'https://dbm.maryland.gov/Documents/MFR_documents/2022/Department-of-Info-Technology-MFR.pdf']\n",
      "['https://fte.maryland.gov/#!/year/2022/operating/0/agency_name?vis=barChart', 'https://dbm.maryland.gov/Documents/MFR_documents/2022/Department-of-Juvenile-Services-MFR.pdf']\n",
      "['https://fte.maryland.gov/#!/year/2022/operating/0/agency_name?vis=barChart', 'https://dbm.maryland.gov/Documents/MFR_documents/2022/Department-of-Labor-MFR.pdf']\n",
      "['https://fte.maryland.gov/#!/year/2022/operating/0/agency_name?vis=barChart', 'https://dbm.maryland.gov/Documents/MFR_documents/2022/Department-of-Natural-Resources-MFR.pdf']\n",
      "['https://fte.maryland.gov/#!/year/2022/operating/0/agency_name?vis=barChart', 'https://dbm.maryland.gov/Documents/MFR_documents/2022/Maryland-Department-of-Planning-MFR.pdf']\n",
      "['https://fte.maryland.gov/#!/year/2022/operating/0/agency_name?vis=barChart', 'https://dbm.maryland.gov/Documents/MFR_documents/2022/Dept-of-Public-Safety-and-Corr-Services-MFR.pdf']\n",
      "['https://fte.maryland.gov/#!/year/2022/operating/0/agency_name?vis=barChart', 'https://dbm.maryland.gov/Documents/MFR_documents/2022/Maryland-State-Police-MFR.pdf']\n",
      "['https://fte.maryland.gov/#!/year/2022/operating/0/agency_name?vis=barChart', 'https://dbm.maryland.gov/Documents/MFR_documents/2022/Maryland-Department-of-the-Environment-MFR.pdf']\n",
      "['https://fte.maryland.gov/#!/year/2022/operating/0/agency_name?vis=barChart', 'https://dbm.maryland.gov/Documents/MFR_documents/2022/Maryland-Dept-of-Transportation-MFR.pdf']\n",
      "['https://fte.maryland.gov/#!/year/2022/operating/0/agency_name?vis=barChart', 'https://dbm.maryland.gov/Documents/MFR_documents/2022/Department-of-Veterans-Affairs-MFR.pdf']\n",
      "['https://fte.maryland.gov/#!/year/2022/operating/0/agency_name?vis=barChart', 'https://dbm.maryland.gov/Documents/MFR_documents/2022/Historic-St-Marys-City-Commission-MFR.pdf']\n",
      "['https://fte.maryland.gov/#!/year/2022/operating/0/agency_name?vis=barChart', 'https://dbm.maryland.gov/Documents/MFR_documents/2022/Interagency-Commission-on-School-Construction-MFR.pdf']\n",
      "['https://fte.maryland.gov/#!/year/2022/operating/0/agency_name?vis=barChart', 'https://dbm.maryland.gov/Documents/MFR_documents/2022/Maryland-529-MFR.pdf']\n",
      "['https://fte.maryland.gov/#!/year/2022/operating/0/agency_name?vis=barChart', 'https://dbm.maryland.gov/Documents/MFR_documents/2022/Maryland-Commission-on-Civil-Rights-MFR.pdf']\n",
      "['https://fte.maryland.gov/#!/year/2022/operating/0/agency_name?vis=barChart', 'https://dbm.maryland.gov/Documents/MFR_documents/2022/Maryland-Environmental-Service-MFR.pdf']\n",
      "['https://fte.maryland.gov/#!/year/2022/operating/0/agency_name?vis=barChart', 'https://dbm.maryland.gov/Documents/MFR_documents/2022/Maryland-Food-Center-Authority-MFR.pdf']\n",
      "['https://fte.maryland.gov/#!/year/2022/operating/0/agency_name?vis=barChart', 'https://dbm.maryland.gov/Documents/MFR_documents/2022/Maryland-Health-Benefit-Exchange-MFR.pdf']\n",
      "['https://fte.maryland.gov/#!/year/2022/operating/0/agency_name?vis=barChart', 'https://dbm.maryland.gov/Documents/MFR_documents/2022/Maryland-Higher-Education-Commission-MFR.pdf']\n",
      "['https://fte.maryland.gov/#!/year/2022/operating/0/agency_name?vis=barChart', 'https://dbm.maryland.gov/Documents/MFR_documents/2022/Maryland-Institute-for-Emergency-Medical-Services-Systems-MFR.pdf']\n",
      "['https://fte.maryland.gov/#!/year/2022/operating/0/agency_name?vis=barChart', 'https://dbm.maryland.gov/Documents/MFR_documents/2022/Maryland-Insurance-Administration-MFR.pdf']\n",
      "['https://fte.maryland.gov/#!/year/2022/operating/0/agency_name?vis=barChart', 'https://dbm.maryland.gov/Documents/MFR_documents/2022/Maryland-Lottery-and-Gaming-Control-Agency-MFR.pdf']\n",
      "['https://fte.maryland.gov/#!/year/2022/operating/0/agency_name?vis=barChart', 'https://dbm.maryland.gov/Documents/MFR_documents/2022/Maryland-Public-Television-MFR.pdf']\n",
      "['https://fte.maryland.gov/#!/year/2022/operating/0/agency_name?vis=barChart', 'https://dbm.maryland.gov/Documents/MFR_documents/2022/Maryland-School-for-the-Deaf-MFR.pdf']\n",
      "['https://fte.maryland.gov/#!/year/2022/operating/0/agency_name?vis=barChart', 'https://dbm.maryland.gov/Documents/MFR_documents/2022/Maryland-Stadium-Authority-MFR.pdf']\n",
      "['https://fte.maryland.gov/#!/year/2022/operating/0/agency_name?vis=barChart', 'https://dbm.maryland.gov/Documents/MFR_documents/2022/Maryland-State-Library-Agency-MFR.pdf']\n",
      "['https://fte.maryland.gov/#!/year/2022/operating/0/agency_name?vis=barChart', 'https://dbm.maryland.gov/Documents/MFR_documents/2022/State-Retirement-Agency-MFR.pdf']\n",
      "['https://fte.maryland.gov/#!/year/2022/operating/0/agency_name?vis=barChart', 'https://dbm.maryland.gov/Documents/MFR_documents/2022/Maryland-Tax-Court-MFR.pdf']\n",
      "['https://fte.maryland.gov/#!/year/2022/operating/0/agency_name?vis=barChart', 'https://dbm.maryland.gov/Documents/MFR_documents/2022/Maryland-Technology-Development-Corporation-MFR.pdf']\n",
      "['https://fte.maryland.gov/#!/year/2022/operating/0/agency_name?vis=barChart', 'https://dbm.maryland.gov/Documents/MFR_documents/2022/Military-Department-MFR.pdf']\n",
      "['https://fte.maryland.gov/#!/year/2022/operating/0/agency_name?vis=barChart', 'https://dbm.maryland.gov/Documents/MFR_documents/2022/Morgan-State-University-MFR.pdf']\n",
      "['https://fte.maryland.gov/#!/year/2022/operating/0/agency_name?vis=barChart', 'https://dbm.maryland.gov/Documents/MFR_documents/2022/Office-of-Administrative-Hearings-MFR.pdf']\n",
      "['https://fte.maryland.gov/#!/year/2022/operating/0/agency_name?vis=barChart', 'https://dbm.maryland.gov/Documents/MFR_documents/2022/Office-of-the-Attorney-General-MFR.pdf']\n",
      "['https://fte.maryland.gov/#!/year/2022/operating/0/agency_name?vis=barChart', 'https://dbm.maryland.gov/Documents/MFR_documents/2022/Office-of-the-Deaf-and-Hard-of-Hearing-MFR.pdf']\n",
      "['https://fte.maryland.gov/#!/year/2022/operating/0/agency_name?vis=barChart', 'https://dbm.maryland.gov/Documents/MFR_documents/2022/Office-of-the-Peoples-Counsel-MFR.pdf']\n",
      "['https://fte.maryland.gov/#!/year/2022/operating/0/agency_name?vis=barChart', 'https://dbm.maryland.gov/Documents/MFR_documents/2022/Office-of-the-Public-Defender-MFR.pdf']\n",
      "['https://fte.maryland.gov/#!/year/2022/operating/0/agency_name?vis=barChart', 'https://dbm.maryland.gov/Documents/MFR_documents/2022/Office-of-the-State-Prosecutor-MFR.pdf']\n",
      "['https://fte.maryland.gov/#!/year/2022/operating/0/agency_name?vis=barChart', 'https://dbm.maryland.gov/Documents/MFR_documents/2022/Property-Tax-Assessment-Appeals-Boards-MFR.pdf']\n",
      "['https://fte.maryland.gov/#!/year/2022/operating/0/agency_name?vis=barChart', 'https://dbm.maryland.gov/Documents/MFR_documents/2022/Public-Service-Commission-MFR.pdf']\n",
      "['https://fte.maryland.gov/#!/year/2022/operating/0/agency_name?vis=barChart', 'https://dbm.maryland.gov/Documents/MFR_documents/2022/Office-of-the-Secretary-of-State-MFR.pdf']\n",
      "['https://fte.maryland.gov/#!/year/2022/operating/0/agency_name?vis=barChart', 'https://dbm.maryland.gov/Documents/MFR_documents/2022/St-Marys-College-of-Maryland-MFR.pdf']\n",
      "['https://fte.maryland.gov/#!/year/2022/operating/0/agency_name?vis=barChart', 'https://dbm.maryland.gov/Documents/MFR_documents/2022/Maryland-State-Archives-MFR.pdf']\n",
      "['https://fte.maryland.gov/#!/year/2022/operating/0/agency_name?vis=barChart', 'https://dbm.maryland.gov/Documents/MFR_documents/2022/State-Board-of-Elections-MFR.pdf']\n",
      "['https://fte.maryland.gov/#!/year/2022/operating/0/agency_name?vis=barChart', 'https://dbm.maryland.gov/Documents/MFR_documents/2022/State-Dept-of-Assessments-and-Taxation-MFR.pdf']\n",
      "['https://fte.maryland.gov/#!/year/2022/operating/0/agency_name?vis=barChart', 'https://dbm.maryland.gov/Documents/MFR_documents/2022/Maryland-State-Department-of-Education-MFR.pdf']\n",
      "['https://fte.maryland.gov/#!/year/2022/operating/0/agency_name?vis=barChart', 'https://dbm.maryland.gov/Documents/MFR_documents/2022/State-Treasurers-Office-MFR.pdf']\n",
      "['https://fte.maryland.gov/#!/year/2022/operating/0/agency_name?vis=barChart', 'https://dbm.maryland.gov/Documents/MFR_documents/2022/Subsequent-Injury-Fund-MFR.pdf']\n",
      "['https://fte.maryland.gov/#!/year/2022/operating/0/agency_name?vis=barChart', 'https://dbm.maryland.gov/Documents/MFR_documents/2022/Teachers-and-State-Employees-Suppl-Retirement-MFR.pdf']\n",
      "['https://fte.maryland.gov/#!/year/2022/operating/0/agency_name?vis=barChart', 'https://dbm.maryland.gov/Documents/MFR_documents/2022/Uninsured-Employers-Fund-MFR.pdf']\n",
      "['https://fte.maryland.gov/#!/year/2022/operating/0/agency_name?vis=barChart', 'https://dbm.maryland.gov/Documents/MFR_documents/2022/USM-University-of-Maryland-MFR.pdf']\n",
      "['https://fte.maryland.gov/#!/year/2022/operating/0/agency_name?vis=barChart', 'https://dbm.maryland.gov/Documents/MFR_documents/2022/Workers-Compensation-Commission-MFR.pdf']\n"
     ]
    }
   ],
   "source": [
    "df[\"link_codes\"] = df[\"link_ls\"].apply(test_link)"
   ]
  },
  {
   "cell_type": "code",
   "execution_count": 7,
   "metadata": {},
   "outputs": [
    {
     "data": {
      "text/plain": [
       "{'https://fte.maryland.gov/#!/year/2022/operating/0/agency_name?vis=barChart': 200,\n",
       " 'https://dbm.maryland.gov/Documents/MFR_documents/2022/Baltimore-City-Community-College-MFR.pdf': 200,\n",
       " 'https://dbm.maryland.gov/Documents/MFR_documents/2022/Board-of-Public-Works-MFR.pdf': 200,\n",
       " 'https://dbm.maryland.gov/Documents/MFR_documents/2022/Canal-Place-Pres-and-Dev-Auth-MFR.pdf': 200,\n",
       " 'https://dbm.maryland.gov/Documents/MFR_documents/2022/Comptroller-of-Maryland-MFR.pdf': 200,\n",
       " 'https://dbm.maryland.gov/Documents/MFR_documents/2022/Department-of-Aging-MFR.pdf': 200,\n",
       " 'https://dbm.maryland.gov/Documents/MFR_documents/2022/Department-of-Agriculture-MFR.pdf': 200,\n",
       " 'https://dbm.maryland.gov/Documents/MFR_documents/2022/Department-of-Budget-and-Management-MFR.pdf': 200,\n",
       " 'https://dbm.maryland.gov/Documents/MFR_documents/2022/Department-of-Commerce-MFR.pdf': 200,\n",
       " 'https://dbm.maryland.gov/Documents/MFR_documents/2022/Maryland-Department-of-Disabilities-MFR.pdf': 200,\n",
       " 'https://dbm.maryland.gov/Documents/MFR_documents/2022/Department-of-General-Services-MFR.pdf': 200,\n",
       " 'https://dbm.maryland.gov/Documents/MFR_documents/2022/Dept-of-Housing-and-Comm-Dev-MFR.pdf': 200,\n",
       " 'https://dbm.maryland.gov/Documents/MFR_documents/2022/Department-of-Human-Services-MFR.pdf': 200,\n",
       " 'https://dbm.maryland.gov/Documents/MFR_documents/2022/Department-of-Info-Technology-MFR.pdf': 200,\n",
       " 'https://dbm.maryland.gov/Documents/MFR_documents/2022/Department-of-Juvenile-Services-MFR.pdf': 200,\n",
       " 'https://dbm.maryland.gov/Documents/MFR_documents/2022/Department-of-Labor-MFR.pdf': 200,\n",
       " 'https://dbm.maryland.gov/Documents/MFR_documents/2022/Department-of-Natural-Resources-MFR.pdf': 200,\n",
       " 'https://dbm.maryland.gov/Documents/MFR_documents/2022/Maryland-Department-of-Planning-MFR.pdf': 200,\n",
       " 'https://dbm.maryland.gov/Documents/MFR_documents/2022/Dept-of-Public-Safety-and-Corr-Services-MFR.pdf': 200,\n",
       " 'https://dbm.maryland.gov/Documents/MFR_documents/2022/Maryland-State-Police-MFR.pdf': 200,\n",
       " 'https://dbm.maryland.gov/Documents/MFR_documents/2022/Maryland-Department-of-the-Environment-MFR.pdf': 200,\n",
       " 'https://dbm.maryland.gov/Documents/MFR_documents/2022/Maryland-Dept-of-Transportation-MFR.pdf': 200,\n",
       " 'https://dbm.maryland.gov/Documents/MFR_documents/2022/Department-of-Veterans-Affairs-MFR.pdf': 200,\n",
       " 'https://dbm.maryland.gov/Documents/MFR_documents/2022/Historic-St-Marys-City-Commission-MFR.pdf': 200,\n",
       " 'https://dbm.maryland.gov/Documents/MFR_documents/2022/Interagency-Commission-on-School-Construction-MFR.pdf': 200,\n",
       " 'https://dbm.maryland.gov/Documents/MFR_documents/2022/Maryland-529-MFR.pdf': 200,\n",
       " 'https://dbm.maryland.gov/Documents/MFR_documents/2022/Maryland-Commission-on-Civil-Rights-MFR.pdf': 200,\n",
       " 'https://dbm.maryland.gov/Documents/MFR_documents/2022/Maryland-Environmental-Service-MFR.pdf': 200,\n",
       " 'https://dbm.maryland.gov/Documents/MFR_documents/2022/Maryland-Food-Center-Authority-MFR.pdf': 200,\n",
       " 'https://dbm.maryland.gov/Documents/MFR_documents/2022/Maryland-Health-Benefit-Exchange-MFR.pdf': 200,\n",
       " 'https://dbm.maryland.gov/Documents/MFR_documents/2022/Maryland-Higher-Education-Commission-MFR.pdf': 200,\n",
       " 'https://dbm.maryland.gov/Documents/MFR_documents/2022/Maryland-Institute-for-Emergency-Medical-Services-Systems-MFR.pdf': 200,\n",
       " 'https://dbm.maryland.gov/Documents/MFR_documents/2022/Maryland-Insurance-Administration-MFR.pdf': 200,\n",
       " 'https://dbm.maryland.gov/Documents/MFR_documents/2022/Maryland-Lottery-and-Gaming-Control-Agency-MFR.pdf': 200,\n",
       " 'https://dbm.maryland.gov/Documents/MFR_documents/2022/Maryland-Public-Television-MFR.pdf': 200,\n",
       " 'https://dbm.maryland.gov/Documents/MFR_documents/2022/Maryland-School-for-the-Deaf-MFR.pdf': 200,\n",
       " 'https://dbm.maryland.gov/Documents/MFR_documents/2022/Maryland-Stadium-Authority-MFR.pdf': 200,\n",
       " 'https://dbm.maryland.gov/Documents/MFR_documents/2022/Maryland-State-Library-Agency-MFR.pdf': 200,\n",
       " 'https://dbm.maryland.gov/Documents/MFR_documents/2022/State-Retirement-Agency-MFR.pdf': 200,\n",
       " 'https://dbm.maryland.gov/Documents/MFR_documents/2022/Maryland-Tax-Court-MFR.pdf': 200,\n",
       " 'https://dbm.maryland.gov/Documents/MFR_documents/2022/Maryland-Technology-Development-Corporation-MFR.pdf': 200,\n",
       " 'https://dbm.maryland.gov/Documents/MFR_documents/2022/Military-Department-MFR.pdf': 200,\n",
       " 'https://dbm.maryland.gov/Documents/MFR_documents/2022/Morgan-State-University-MFR.pdf': 200,\n",
       " 'https://dbm.maryland.gov/Documents/MFR_documents/2022/Office-of-Administrative-Hearings-MFR.pdf': 200,\n",
       " 'https://dbm.maryland.gov/Documents/MFR_documents/2022/Office-of-the-Attorney-General-MFR.pdf': 200,\n",
       " 'https://dbm.maryland.gov/Documents/MFR_documents/2022/Office-of-the-Deaf-and-Hard-of-Hearing-MFR.pdf': 200,\n",
       " 'https://dbm.maryland.gov/Documents/MFR_documents/2022/Office-of-the-Peoples-Counsel-MFR.pdf': 200,\n",
       " 'https://dbm.maryland.gov/Documents/MFR_documents/2022/Office-of-the-Public-Defender-MFR.pdf': 200,\n",
       " 'https://dbm.maryland.gov/Documents/MFR_documents/2022/Office-of-the-State-Prosecutor-MFR.pdf': 200,\n",
       " 'https://dbm.maryland.gov/Documents/MFR_documents/2022/Property-Tax-Assessment-Appeals-Boards-MFR.pdf': 200,\n",
       " 'https://dbm.maryland.gov/Documents/MFR_documents/2022/Public-Service-Commission-MFR.pdf': 200,\n",
       " 'https://dbm.maryland.gov/Documents/MFR_documents/2022/Office-of-the-Secretary-of-State-MFR.pdf': 200,\n",
       " 'https://dbm.maryland.gov/Documents/MFR_documents/2022/St-Marys-College-of-Maryland-MFR.pdf': 200,\n",
       " 'https://dbm.maryland.gov/Documents/MFR_documents/2022/Maryland-State-Archives-MFR.pdf': 200,\n",
       " 'https://dbm.maryland.gov/Documents/MFR_documents/2022/State-Board-of-Elections-MFR.pdf': 200,\n",
       " 'https://dbm.maryland.gov/Documents/MFR_documents/2022/State-Dept-of-Assessments-and-Taxation-MFR.pdf': 200,\n",
       " 'https://dbm.maryland.gov/Documents/MFR_documents/2022/Maryland-State-Department-of-Education-MFR.pdf': 200,\n",
       " 'https://dbm.maryland.gov/Documents/MFR_documents/2022/State-Treasurers-Office-MFR.pdf': 200,\n",
       " 'https://dbm.maryland.gov/Documents/MFR_documents/2022/Subsequent-Injury-Fund-MFR.pdf': 200,\n",
       " 'https://dbm.maryland.gov/Documents/MFR_documents/2022/Teachers-and-State-Employees-Suppl-Retirement-MFR.pdf': 200,\n",
       " 'https://dbm.maryland.gov/Documents/MFR_documents/2022/Uninsured-Employers-Fund-MFR.pdf': 200,\n",
       " 'https://dbm.maryland.gov/Documents/MFR_documents/2022/USM-University-of-Maryland-MFR.pdf': 200,\n",
       " 'https://dbm.maryland.gov/Documents/MFR_documents/2022/Workers-Compensation-Commission-MFR.pdf': 200}"
      ]
     },
     "execution_count": 7,
     "metadata": {},
     "output_type": "execute_result"
    }
   ],
   "source": [
    "tested_links_dict"
   ]
  },
  {
   "cell_type": "code",
   "execution_count": null,
   "metadata": {},
   "outputs": [],
   "source": []
  },
  {
   "cell_type": "code",
   "execution_count": null,
   "metadata": {},
   "outputs": [],
   "source": []
  }
 ],
 "metadata": {
  "kernelspec": {
   "display_name": "Python 3",
   "language": "python",
   "name": "python3"
  },
  "language_info": {
   "codemirror_mode": {
    "name": "ipython",
    "version": 3
   },
   "file_extension": ".py",
   "mimetype": "text/x-python",
   "name": "python",
   "nbconvert_exporter": "python",
   "pygments_lexer": "ipython3",
   "version": "3.7.6"
  }
 },
 "nbformat": 4,
 "nbformat_minor": 4
}
